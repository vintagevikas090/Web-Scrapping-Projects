{
 "cells": [
  {
   "cell_type": "code",
   "execution_count": 3,
   "id": "4264c1fe",
   "metadata": {},
   "outputs": [],
   "source": [
    "import pandas as pd\n",
    "import numpy as np\n",
    "import requests\n",
    "from bs4 import BeautifulSoup\n",
    "from selenium import webdriver\n",
    "import time\n",
    "import csv\n",
    "import os\n",
    "import json\n",
    "import seaborn as sns\n",
    "import matplotlib.pyplot as plt\n",
    "%matplotlib inline"
   ]
  },
  {
   "cell_type": "markdown",
   "id": "f5c2909c",
   "metadata": {},
   "source": [
    "## AIM 1 - Get the Summery of All Matches "
   ]
  },
  {
   "cell_type": "markdown",
   "id": "ebb36401",
   "metadata": {},
   "source": [
    "#### Rough Work"
   ]
  },
  {
   "cell_type": "code",
   "execution_count": 3,
   "id": "85167bb9",
   "metadata": {},
   "outputs": [],
   "source": [
    "summery_card_url = 'https://www.espncricinfo.com/records/tournament/team-match-results/icc-men-s-t20-world-cup-2022-23-14450'"
   ]
  },
  {
   "cell_type": "code",
   "execution_count": 5,
   "id": "01989abc",
   "metadata": {},
   "outputs": [],
   "source": [
    "driver = webdriver.Chrome()\n",
    "time.sleep(2)\n",
    "\n",
    "driver.get(summery_card_url)\n",
    "page_data = driver.page_source\n",
    "driver.quit()"
   ]
  },
  {
   "cell_type": "code",
   "execution_count": 7,
   "id": "2ade8b0b",
   "metadata": {},
   "outputs": [],
   "source": [
    "soup = BeautifulSoup(page_data, 'html.parser')"
   ]
  },
  {
   "cell_type": "code",
   "execution_count": 9,
   "id": "be8feeb4",
   "metadata": {},
   "outputs": [],
   "source": [
    "req_div = soup.find('div', class_ = 'ds-overflow-x-auto ds-scrollbar-hide')"
   ]
  },
  {
   "cell_type": "code",
   "execution_count": 28,
   "id": "3ff0440c",
   "metadata": {},
   "outputs": [
    {
     "name": "stdout",
     "output_type": "stream",
     "text": [
      "Team 1\n",
      "Team 2\n",
      "Winner\n",
      "Margin\n",
      "Ground\n",
      "Match Date\n",
      "Scorecard\n"
     ]
    }
   ],
   "source": [
    "for td in req_div.table.thead.tr.find_all('td'):\n",
    "    print(td.text)"
   ]
  },
  {
   "cell_type": "code",
   "execution_count": 66,
   "id": "f0489995",
   "metadata": {},
   "outputs": [
    {
     "name": "stdout",
     "output_type": "stream",
     "text": [
      "['England', '', 'Pakistan', '', 'England', '', '5 wickets', '', 'Melbourne', '', 'Nov 13, 2022', '', 'T20I # 1879', '/series/icc-men-s-t20-world-cup-2022-23-1298134/england-vs-pakistan-final-1298179/full-scorecard']\n"
     ]
    }
   ],
   "source": [
    "data = []\n",
    "for row in req_div.table.tbody.find_all('tr'):\n",
    "    cols = []\n",
    "    scr, i = '', 1\n",
    "    for col in row.find_all('td'):\n",
    "        cols.append(col.text)\n",
    "        if i == 7:\n",
    "            scr = col.span.a['href']\n",
    "        cols.append(scr)\n",
    "        i += 1\n",
    "    print(cols)\n",
    "    break"
   ]
  },
  {
   "cell_type": "code",
   "execution_count": 56,
   "id": "017114b6",
   "metadata": {},
   "outputs": [
    {
     "data": {
      "text/plain": [
       "[['England',\n",
       "  'Pakistan',\n",
       "  'England',\n",
       "  '5 wickets',\n",
       "  'Melbourne',\n",
       "  'Nov 13, 2022',\n",
       "  'T20I # 1879'],\n",
       " ['England',\n",
       "  'India',\n",
       "  'England',\n",
       "  '10 wickets',\n",
       "  'Adelaide',\n",
       "  'Nov 10, 2022',\n",
       "  'T20I # 1878'],\n",
       " ['New Zealand',\n",
       "  'Pakistan',\n",
       "  'Pakistan',\n",
       "  '7 wickets',\n",
       "  'Sydney',\n",
       "  'Nov 9, 2022',\n",
       "  'T20I # 1877']]"
      ]
     },
     "execution_count": 56,
     "metadata": {},
     "output_type": "execute_result"
    }
   ],
   "source": [
    "data[:3]"
   ]
  },
  {
   "cell_type": "markdown",
   "id": "4aa30b22",
   "metadata": {},
   "source": [
    "# Final Function to Get Match Summery Data"
   ]
  },
  {
   "cell_type": "code",
   "execution_count": 276,
   "id": "2ab9b030",
   "metadata": {},
   "outputs": [],
   "source": [
    "summery_card_url = 'https://www.espncricinfo.com/records/tournament/team-match-results/icc-men-s-t20-world-cup-2022-23-14450'\n",
    "\n",
    "def get_match_summery_data(file_path):\n",
    "    # Open the page\n",
    "    driver = webdriver.Chrome()\n",
    "    time.sleep(2)\n",
    "    driver.get(summery_card_url)\n",
    "    page_data = driver.page_source\n",
    "    \n",
    "    # scrapping the data via bs4\n",
    "    soup = BeautifulSoup(page_data, 'html.parser')\n",
    "    req_div = soup.find('div', class_ = 'ds-overflow-x-auto ds-scrollbar-hide')\n",
    "    \n",
    "    # getting table header\n",
    "    table_header = [td.text.strip() for td in req_div.table.thead.tr.find_all('td')]\n",
    "    # col name for scorecard link\n",
    "    table_header.append('ScoreCard Link')\n",
    "    \n",
    "    # getting table data\n",
    "    table_data = []\n",
    "    for row in req_div.table.tbody.find_all('tr'):\n",
    "        column = []\n",
    "        scorecard_link, i = '', 1\n",
    "        for col in row.find_all('td'):\n",
    "            column.append(col.text.strip())\n",
    "            ## ADDITIONAL Col for Scorecard Link\n",
    "            if i == 7:\n",
    "                scorecard_link = 'https://espncricinfo.com' + col.span.a['href']\n",
    "                column.append(scorecard_link)\n",
    "            i += 1\n",
    "            \n",
    "        table_data.append(column)\n",
    "        \n",
    "    driver.quit()\n",
    "    \n",
    "    # Saving the summery data to file_path\n",
    "    try:\n",
    "        with open(file_path, 'w') as file:\n",
    "            csvWriter = csv.writer(file)\n",
    "\n",
    "            # writing the header\n",
    "            csvWriter.writerow(table_header)\n",
    "            # writing the data\n",
    "            csvWriter.writerows(table_data)\n",
    "    except Exception as e:\n",
    "        print(f\"{e}\")\n",
    "    "
   ]
  },
  {
   "cell_type": "code",
   "execution_count": 277,
   "id": "7c8bf2e5",
   "metadata": {},
   "outputs": [],
   "source": [
    "get_match_summery_data('match_summery_data.csv')"
   ]
  },
  {
   "cell_type": "code",
   "execution_count": 278,
   "id": "5b39287f",
   "metadata": {},
   "outputs": [
    {
     "data": {
      "text/html": [
       "<div>\n",
       "<style scoped>\n",
       "    .dataframe tbody tr th:only-of-type {\n",
       "        vertical-align: middle;\n",
       "    }\n",
       "\n",
       "    .dataframe tbody tr th {\n",
       "        vertical-align: top;\n",
       "    }\n",
       "\n",
       "    .dataframe thead th {\n",
       "        text-align: right;\n",
       "    }\n",
       "</style>\n",
       "<table border=\"1\" class=\"dataframe\">\n",
       "  <thead>\n",
       "    <tr style=\"text-align: right;\">\n",
       "      <th></th>\n",
       "      <th>Team 1</th>\n",
       "      <th>Team 2</th>\n",
       "      <th>Winner</th>\n",
       "      <th>Margin</th>\n",
       "      <th>Ground</th>\n",
       "      <th>Match Date</th>\n",
       "      <th>Scorecard</th>\n",
       "      <th>ScoreCard Link</th>\n",
       "    </tr>\n",
       "  </thead>\n",
       "  <tbody>\n",
       "    <tr>\n",
       "      <th>0</th>\n",
       "      <td>England</td>\n",
       "      <td>Pakistan</td>\n",
       "      <td>England</td>\n",
       "      <td>5 wickets</td>\n",
       "      <td>Melbourne</td>\n",
       "      <td>Nov 13, 2022</td>\n",
       "      <td>T20I # 1879</td>\n",
       "      <td>https://espncricinfo.com/series/icc-men-s-t20-...</td>\n",
       "    </tr>\n",
       "    <tr>\n",
       "      <th>1</th>\n",
       "      <td>England</td>\n",
       "      <td>India</td>\n",
       "      <td>England</td>\n",
       "      <td>10 wickets</td>\n",
       "      <td>Adelaide</td>\n",
       "      <td>Nov 10, 2022</td>\n",
       "      <td>T20I # 1878</td>\n",
       "      <td>https://espncricinfo.com/series/icc-men-s-t20-...</td>\n",
       "    </tr>\n",
       "    <tr>\n",
       "      <th>2</th>\n",
       "      <td>New Zealand</td>\n",
       "      <td>Pakistan</td>\n",
       "      <td>Pakistan</td>\n",
       "      <td>7 wickets</td>\n",
       "      <td>Sydney</td>\n",
       "      <td>Nov 9, 2022</td>\n",
       "      <td>T20I # 1877</td>\n",
       "      <td>https://espncricinfo.com/series/icc-men-s-t20-...</td>\n",
       "    </tr>\n",
       "    <tr>\n",
       "      <th>3</th>\n",
       "      <td>India</td>\n",
       "      <td>Zimbabwe</td>\n",
       "      <td>India</td>\n",
       "      <td>71 runs</td>\n",
       "      <td>Melbourne</td>\n",
       "      <td>Nov 6, 2022</td>\n",
       "      <td>T20I # 1873</td>\n",
       "      <td>https://espncricinfo.com/series/icc-men-s-t20-...</td>\n",
       "    </tr>\n",
       "    <tr>\n",
       "      <th>4</th>\n",
       "      <td>Bangladesh</td>\n",
       "      <td>Pakistan</td>\n",
       "      <td>Pakistan</td>\n",
       "      <td>5 wickets</td>\n",
       "      <td>Adelaide</td>\n",
       "      <td>Nov 6, 2022</td>\n",
       "      <td>T20I # 1872</td>\n",
       "      <td>https://espncricinfo.com/series/icc-men-s-t20-...</td>\n",
       "    </tr>\n",
       "  </tbody>\n",
       "</table>\n",
       "</div>"
      ],
      "text/plain": [
       "        Team 1    Team 2    Winner      Margin     Ground    Match Date  \\\n",
       "0      England  Pakistan   England   5 wickets  Melbourne  Nov 13, 2022   \n",
       "1      England     India   England  10 wickets   Adelaide  Nov 10, 2022   \n",
       "2  New Zealand  Pakistan  Pakistan   7 wickets     Sydney   Nov 9, 2022   \n",
       "3        India  Zimbabwe     India     71 runs  Melbourne   Nov 6, 2022   \n",
       "4   Bangladesh  Pakistan  Pakistan   5 wickets   Adelaide   Nov 6, 2022   \n",
       "\n",
       "     Scorecard                                     ScoreCard Link  \n",
       "0  T20I # 1879  https://espncricinfo.com/series/icc-men-s-t20-...  \n",
       "1  T20I # 1878  https://espncricinfo.com/series/icc-men-s-t20-...  \n",
       "2  T20I # 1877  https://espncricinfo.com/series/icc-men-s-t20-...  \n",
       "3  T20I # 1873  https://espncricinfo.com/series/icc-men-s-t20-...  \n",
       "4  T20I # 1872  https://espncricinfo.com/series/icc-men-s-t20-...  "
      ]
     },
     "execution_count": 278,
     "metadata": {},
     "output_type": "execute_result"
    }
   ],
   "source": [
    "df = pd.read_csv('match_summery_data.csv')\n",
    "df.head()"
   ]
  },
  {
   "cell_type": "code",
   "execution_count": 279,
   "id": "95fad412",
   "metadata": {},
   "outputs": [],
   "source": [
    "### Renaming the Scorecard Col to Match_id\n",
    "df.rename(columns= {'Scorecard': 'Match_id'}, inplace = True)"
   ]
  },
  {
   "cell_type": "code",
   "execution_count": 280,
   "id": "1278f028",
   "metadata": {},
   "outputs": [],
   "source": [
    "df.to_csv('match_summery_data.csv', index = False)"
   ]
  },
  {
   "cell_type": "code",
   "execution_count": null,
   "id": "8a691f3b",
   "metadata": {},
   "outputs": [],
   "source": []
  },
  {
   "cell_type": "code",
   "execution_count": null,
   "id": "3535ffd8",
   "metadata": {},
   "outputs": [],
   "source": []
  },
  {
   "cell_type": "markdown",
   "id": "9815eed9",
   "metadata": {},
   "source": [
    "## AIM 2 - Get the Batting ScoreCard for each of the match"
   ]
  },
  {
   "cell_type": "markdown",
   "id": "a47c9c48",
   "metadata": {},
   "source": [
    "#### Rough Work"
   ]
  },
  {
   "cell_type": "code",
   "execution_count": 4,
   "id": "89edacdc",
   "metadata": {},
   "outputs": [],
   "source": [
    "url = 'https://www.espncricinfo.com/series/icc-men-s-t20-world-cup-2022-23-1298134/india-vs-pakistan-16th-match-group-2-1298150/full-scorecard'"
   ]
  },
  {
   "cell_type": "code",
   "execution_count": 5,
   "id": "c57a3088",
   "metadata": {},
   "outputs": [],
   "source": [
    "driver = webdriver.Chrome()\n",
    "time.sleep(3)\n",
    "driver.get(url)\n",
    "soup = BeautifulSoup(driver.page_source, 'html.parser')\n",
    "driver.quit()"
   ]
  },
  {
   "cell_type": "code",
   "execution_count": 6,
   "id": "e35816eb",
   "metadata": {},
   "outputs": [],
   "source": [
    "teams_tag = soup.find_all('div', class_ = 'ds-flex ds-px-4 ds-border-b ds-border-line ds-py-3 ds-bg-ui-fill-translucent-hover')"
   ]
  },
  {
   "cell_type": "code",
   "execution_count": 7,
   "id": "57365ec2",
   "metadata": {},
   "outputs": [
    {
     "data": {
      "text/plain": [
       "[<div class=\"ds-flex ds-px-4 ds-border-b ds-border-line ds-py-3 ds-bg-ui-fill-translucent-hover\"><div class=\"ds-flex ds-flex-col ds-grow ds-justify-center\"><span class=\"ds-text-title-xs ds-font-bold ds-text-typo\"><span class=\"ds-text-title-xs ds-font-bold ds-capitalize\">Pakistan</span><span class=\"ds-text-compact-xs ds-font-regular\">  (20 ovs maximum)</span></span></div></div>,\n",
       " <div class=\"ds-flex ds-px-4 ds-border-b ds-border-line ds-py-3 ds-bg-ui-fill-translucent-hover\"><div class=\"ds-flex ds-flex-col ds-grow ds-justify-center\"><span class=\"ds-text-title-xs ds-font-bold ds-text-typo\"><span class=\"ds-text-title-xs ds-font-bold ds-capitalize\">India</span><span class=\"ds-text-compact-xs ds-font-regular\">  (T: 160 runs from 20 ovs)</span></span></div></div>]"
      ]
     },
     "execution_count": 7,
     "metadata": {},
     "output_type": "execute_result"
    }
   ],
   "source": [
    "teams_tag"
   ]
  },
  {
   "cell_type": "code",
   "execution_count": 8,
   "id": "b02f804d",
   "metadata": {},
   "outputs": [
    {
     "name": "stdout",
     "output_type": "stream",
     "text": [
      "Pakistan\n",
      "India\n"
     ]
    }
   ],
   "source": [
    "for tag in teams_tag:\n",
    "    print(tag.find('span', class_ = 'ds-text-title-xs ds-font-bold ds-capitalize').text)"
   ]
  },
  {
   "cell_type": "code",
   "execution_count": 11,
   "id": "b9f17eb2",
   "metadata": {},
   "outputs": [
    {
     "name": "stdout",
     "output_type": "stream",
     "text": [
      "2\n"
     ]
    }
   ],
   "source": [
    "table = soup.find_all(\"table\", class_=\"ci-scorecard-table\")\n",
    "print(len(table))"
   ]
  },
  {
   "cell_type": "code",
   "execution_count": 12,
   "id": "26235bbc",
   "metadata": {},
   "outputs": [
    {
     "data": {
      "text/plain": [
       "'Mohammad Rizwan\\xa0†c Kumar b Arshdeep Singh412251033.33'"
      ]
     },
     "execution_count": 12,
     "metadata": {},
     "output_type": "execute_result"
    }
   ],
   "source": [
    "tables[0].tbody.tr.text"
   ]
  },
  {
   "cell_type": "code",
   "execution_count": 13,
   "id": "4764f38d",
   "metadata": {},
   "outputs": [
    {
     "data": {
      "text/plain": [
       "'Bhuvneshwar Kumar402215.50171130'"
      ]
     },
     "execution_count": 13,
     "metadata": {},
     "output_type": "execute_result"
    }
   ],
   "source": [
    "tables[0].next_sibling.tbody.tr.text"
   ]
  },
  {
   "cell_type": "code",
   "execution_count": 14,
   "id": "f1570480",
   "metadata": {},
   "outputs": [
    {
     "data": {
      "text/plain": [
       "'KL Rahul\\xa0 b Naseem Shah48130050.00'"
      ]
     },
     "execution_count": 14,
     "metadata": {},
     "output_type": "execute_result"
    }
   ],
   "source": [
    "tables[1].tbody.tr.text"
   ]
  },
  {
   "cell_type": "code",
   "execution_count": 15,
   "id": "47afcd84",
   "metadata": {},
   "outputs": [
    {
     "data": {
      "text/plain": [
       "['KL Rahul', 'b Naseem Shah', '4', '8', '13', '0', '0', '50.00']"
      ]
     },
     "execution_count": 15,
     "metadata": {},
     "output_type": "execute_result"
    }
   ],
   "source": [
    "batting_data = []\n",
    "for tr in tables[1].tbody.find_all('tr'):\n",
    "    column = []\n",
    "    for col in tr.find_all('td'):\n",
    "        column.append(col.text.strip())\n",
    "    if len(column) == 8:   \n",
    "        batting_data.append(column)\n",
    "        \n",
    "batting_data[0]"
   ]
  },
  {
   "cell_type": "code",
   "execution_count": 36,
   "id": "74ac88e9",
   "metadata": {},
   "outputs": [
    {
     "name": "stdout",
     "output_type": "stream",
     "text": [
      "KL Rahul \n",
      "/cricketers/kl-rahul-422108\n",
      "Rohit Sharma (c)\n",
      "/cricketers/rohit-sharma-34102\n",
      "Virat Kohli \n",
      "/cricketers/virat-kohli-253802\n",
      "Suryakumar Yadav \n",
      "/cricketers/suryakumar-yadav-446507\n",
      "Axar Patel \n",
      "/cricketers/axar-patel-554691\n",
      "Hardik Pandya \n",
      "/cricketers/hardik-pandya-625371\n",
      "Dinesh Karthik †\n",
      "/cricketers/dinesh-karthik-30045\n",
      "Ravichandran Ashwin \n",
      "/cricketers/ravichandran-ashwin-26421\n",
      "Did not bat: Mohammed Shami, Bhuvneshwar Kumar, Arshdeep Singh \n",
      "/cricketers/mohammed-shami-481896\n"
     ]
    }
   ],
   "source": [
    "batting_data = []\n",
    "for tr in tables[1].tbody.find_all('tr'):\n",
    "    column = []\n",
    "    for i, col in enumerate(tr.find_all('td')):\n",
    "        if i == 0:\n",
    "            s = col.find('a')\n",
    "            if s is not None:\n",
    "                print(col.text)\n",
    "                print(s['href'])\n",
    "        else:\n",
    "            continue"
   ]
  },
  {
   "cell_type": "code",
   "execution_count": 29,
   "id": "faffc1c3",
   "metadata": {},
   "outputs": [
    {
     "data": {
      "text/plain": [
       "[['Shaheen Shah Afridi', '4', '0', '34', '0', '8.50', '7', '4', '0', '1', '0'],\n",
       " ['Naseem Shah', '4', '0', '23', '1', '5.75', '10', '1', '0', '0', '0'],\n",
       " ['Haris Rauf', '4', '0', '36', '2', '9.00', '11', '2', '2', '1', '0'],\n",
       " ['Shadab Khan', '4', '0', '21', '0', '5.25', '10', '2', '0', '0', '0'],\n",
       " ['Mohammad Nawaz', '4', '0', '42', '2', '10.50', '8', '0', '4', '2', '1']]"
      ]
     },
     "execution_count": 29,
     "metadata": {},
     "output_type": "execute_result"
    }
   ],
   "source": [
    "bowling_data = []\n",
    "for tr in tables[1].next_sibling.tbody.find_all('tr'):\n",
    "    column = []\n",
    "    for col in tr.find_all('td'):\n",
    "        column.append(col.text.strip())\n",
    "    if len(column) == 11:   \n",
    "        bowling_data.append(column)\n",
    "        \n",
    "bowling_data"
   ]
  },
  {
   "cell_type": "code",
   "execution_count": 311,
   "id": "32ade851",
   "metadata": {},
   "outputs": [],
   "source": [
    "batting_data = []\n",
    "bowling_data = []\n",
    "def get_batting_and_bowling_data(url):\n",
    "    driver = webdriver.Chrome()\n",
    "    time.sleep(3)\n",
    "    driver.get(url)\n",
    "    soup = BeautifulSoup(driver.page_source, 'html.parser')\n",
    "    driver.quit()\n",
    "    \n",
    "    teams = []\n",
    "    teams_tag = soup.find_all('div', class_='ds-flex ds-px-4 ds-border-b ds-border-line ds-py-3 ds-bg-ui-fill-translucent-hover')\n",
    "    for team in teams_tag:\n",
    "        teams.append(team.find('span', class_='ds-text-title-xs ds-font-bold ds-capitalize').text.strip())\n",
    "    \n",
    "    batting_first = teams[0].strip()\n",
    "    batting_second = teams[1].strip()\n",
    "    \n",
    "    tables = soup.find_all(\"table\", class_=\"ci-scorecard-table\")\n",
    "    \n",
    "    for i in range(2):\n",
    "        batting_team = teams[i]\n",
    "        bowling_team = teams[1] if i == 0 else teams[0]\n",
    "        \n",
    "        table_data = []\n",
    "        batting_pos = 1\n",
    "        batting_table = table[i]\n",
    "        bowling_table = batting_table.next_sibling\n",
    "        ## batting data\n",
    "        for tr in batting_table.tbody.find_all('tr'):\n",
    "            column = []\n",
    "            for col in tr.find_all('td'):\n",
    "                column.append(col.text.strip())\n",
    "            if len(column) == 8:\n",
    "                match = batting_first +' vs '+ batting_second\n",
    "                additional_data = [match, batting_team, batting_pos]\n",
    "                column = additional_data + column\n",
    "                table_data.append(column)\n",
    "                batting_pos += 1\n",
    "        batting_data.extend(table_data)\n",
    "    \n",
    "        ## Bowling Data\n",
    "        bowling_table_data = []\n",
    "        for tr in bowling_table.tbody.find_all('tr'):\n",
    "            column = []\n",
    "            for col in tr.find_all('td'):\n",
    "                column.append(col.text.strip())\n",
    "            if len(column) == 11:\n",
    "                match = batting_first +' vs '+ batting_second\n",
    "                additional_data = [match , bowling_team]\n",
    "                column = additional_data + column\n",
    "                bowling_table_data.append(column)\n",
    "        bowling_data.extend(bowling_table_data)\n",
    "        \n",
    "    return batting_data, bowling_data\n"
   ]
  },
  {
   "cell_type": "code",
   "execution_count": 312,
   "id": "ed2cc38c",
   "metadata": {},
   "outputs": [],
   "source": [
    "temp = get_batting_and_bowling_data(url)"
   ]
  },
  {
   "cell_type": "code",
   "execution_count": 320,
   "id": "02491856",
   "metadata": {
    "scrolled": false
   },
   "outputs": [
    {
     "name": "stdout",
     "output_type": "stream",
     "text": [
      "['Pakistan vs India', 'Pakistan', 1, 'Mohammad Rizwan\\xa0†', 'c Kumar b Arshdeep Singh', '4', '12', '25', '1', '0', '33.33']\n"
     ]
    }
   ],
   "source": [
    "for batsman in temp[0]:\n",
    "    print(batsman)\n",
    "    break"
   ]
  },
  {
   "cell_type": "code",
   "execution_count": 319,
   "id": "160198f9",
   "metadata": {},
   "outputs": [
    {
     "name": "stdout",
     "output_type": "stream",
     "text": [
      "['Pakistan vs India', 'India', 'Bhuvneshwar Kumar', '4', '0', '22', '1', '5.50', '17', '1', '1', '3', '0']\n"
     ]
    }
   ],
   "source": [
    "for bowler in temp[1]:\n",
    "    print(bowler)\n",
    "    break"
   ]
  },
  {
   "cell_type": "code",
   "execution_count": 287,
   "id": "b8c2bf5e",
   "metadata": {},
   "outputs": [],
   "source": [
    "df =  pd.read_csv('match_summery_data.csv', usecols=['Match_id', 'ScoreCard Link'])"
   ]
  },
  {
   "cell_type": "code",
   "execution_count": 318,
   "id": "0b0fb98e",
   "metadata": {},
   "outputs": [
    {
     "data": {
      "text/html": [
       "<div>\n",
       "<style scoped>\n",
       "    .dataframe tbody tr th:only-of-type {\n",
       "        vertical-align: middle;\n",
       "    }\n",
       "\n",
       "    .dataframe tbody tr th {\n",
       "        vertical-align: top;\n",
       "    }\n",
       "\n",
       "    .dataframe thead th {\n",
       "        text-align: right;\n",
       "    }\n",
       "</style>\n",
       "<table border=\"1\" class=\"dataframe\">\n",
       "  <thead>\n",
       "    <tr style=\"text-align: right;\">\n",
       "      <th></th>\n",
       "      <th>Match_id</th>\n",
       "      <th>ScoreCard Link</th>\n",
       "    </tr>\n",
       "  </thead>\n",
       "  <tbody>\n",
       "    <tr>\n",
       "      <th>0</th>\n",
       "      <td>T20I # 1879</td>\n",
       "      <td>https://espncricinfo.com/series/icc-men-s-t20-...</td>\n",
       "    </tr>\n",
       "  </tbody>\n",
       "</table>\n",
       "</div>"
      ],
      "text/plain": [
       "      Match_id                                     ScoreCard Link\n",
       "0  T20I # 1879  https://espncricinfo.com/series/icc-men-s-t20-..."
      ]
     },
     "execution_count": 318,
     "metadata": {},
     "output_type": "execute_result"
    }
   ],
   "source": [
    "df.head(1)"
   ]
  },
  {
   "cell_type": "code",
   "execution_count": 292,
   "id": "36578df9",
   "metadata": {},
   "outputs": [
    {
     "data": {
      "text/plain": [
       "(42, 2)"
      ]
     },
     "execution_count": 292,
     "metadata": {},
     "output_type": "execute_result"
    }
   ],
   "source": [
    "df.shape"
   ]
  },
  {
   "cell_type": "code",
   "execution_count": 293,
   "id": "0aad9775",
   "metadata": {},
   "outputs": [
    {
     "data": {
      "text/plain": [
       "Match_id                                                T20I # 1879\n",
       "ScoreCard Link    https://espncricinfo.com/series/icc-men-s-t20-...\n",
       "Name: 0, dtype: object"
      ]
     },
     "execution_count": 293,
     "metadata": {},
     "output_type": "execute_result"
    }
   ],
   "source": [
    "df.iloc[0]"
   ]
  },
  {
   "cell_type": "code",
   "execution_count": 294,
   "id": "96cc89d1",
   "metadata": {},
   "outputs": [
    {
     "data": {
      "text/plain": [
       "'T20I # 1879'"
      ]
     },
     "execution_count": 294,
     "metadata": {},
     "output_type": "execute_result"
    }
   ],
   "source": [
    "df.iloc[0]['Match_id']"
   ]
  },
  {
   "cell_type": "markdown",
   "id": "192ba1f9",
   "metadata": {},
   "source": [
    "# Final Function To get the Batting and Bowling ScoreCard of Each Game"
   ]
  },
  {
   "cell_type": "code",
   "execution_count": 315,
   "id": "d2aad552",
   "metadata": {},
   "outputs": [],
   "source": [
    "def get_batting_and_bowling_data(url, match_id, driver):\n",
    "    driver.get(url)\n",
    "    time.sleep(2) \n",
    "    soup = BeautifulSoup(driver.page_source, 'html.parser')\n",
    "\n",
    "    teams = []\n",
    "    teams_tag = soup.find_all('div', class_='ds-flex ds-px-4 ds-border-b ds-border-line ds-py-3 ds-bg-ui-fill-translucent-hover')\n",
    "    for team in teams_tag:\n",
    "        teams.append(team.find('span', class_='ds-text-title-xs ds-font-bold ds-capitalize').text.strip())\n",
    "\n",
    "    batting_first = teams[0].strip()\n",
    "    batting_second = teams[1].strip()\n",
    "    \n",
    "    tables = soup.find_all(\"table\", class_=\"ci-scorecard-table\")\n",
    "    \n",
    "    batting_data = []\n",
    "    bowling_data = []\n",
    "    \n",
    "    for i in range(2):  # Assuming two innings\n",
    "        batting_team = teams[i]\n",
    "        bowling_team = teams[1] if i == 0 else teams[0]\n",
    "        \n",
    "        \n",
    "        if i < len(tables):\n",
    "            batting_table = tables[i]\n",
    "            bowling_table = batting_table.find_next(\"table\")\n",
    "        \n",
    "            ## Batting Data \n",
    "            batting_pos = 1\n",
    "            for tr in batting_table.tbody.find_all('tr'):\n",
    "                columns = [col.text.strip() for col in tr.find_all('td')]\n",
    "                \n",
    "                if len(columns) == 8:  # Valid batting row\n",
    "                    additional_data = [match_id, batting_team, bowling_team, batting_pos]\n",
    "                    batting_data.append(additional_data + columns)\n",
    "                    batting_pos += 1\n",
    "        \n",
    "            ## Bowling Data \n",
    "            for tr in bowling_table.tbody.find_all('tr'):\n",
    "                columns = [col.text.strip() for col in tr.find_all('td')]\n",
    "                \n",
    "                if len(columns) == 11:  # Valid bowling row\n",
    "                    additional_data = [match_id, bowling_team, batting_team]\n",
    "                    bowling_data.append(additional_data + columns)\n",
    "        \n",
    "    return batting_data, bowling_data\n",
    "\n",
    "\n",
    "def get_ScoreCard(summary_file_path):\n",
    "    df = pd.read_csv(summary_file_path, usecols=['Match_id', 'ScoreCard Link'])\n",
    "    \n",
    "    driver = webdriver.Chrome()\n",
    "\n",
    "    for i in range(df.shape[0]):\n",
    "        match_id = df.iloc[i]['Match_id']\n",
    "        scorecard_link = df.iloc[i]['ScoreCard Link']\n",
    "        \n",
    "        batsman_card, bowling_card = get_batting_and_bowling_data(scorecard_link, match_id, driver)\n",
    "        \n",
    "        # Check if file exists to decide on writing the header\n",
    "        batting_file_exists = os.path.exists('Batting_ScoreCard.csv')\n",
    "        bowling_file_exists = os.path.exists('Bowling_ScoreCard.csv')\n",
    "\n",
    "        with open('Batting_ScoreCard.csv', 'a', newline='') as file:\n",
    "            csvWriter = csv.writer(file)\n",
    "            \n",
    "            if not batting_file_exists:\n",
    "                header = ['Match_ID', 'Team', 'Opponent', 'Batting Position', 'Batsman_Name', \n",
    "                          'Dismissal', 'Runs', 'Balls', 'Minutes Spent', '4s', '6s', 'Strike Rate']\n",
    "                csvWriter.writerow(header)\n",
    "            \n",
    "            csvWriter.writerows(batsman_card)\n",
    "        \n",
    "        with open('Bowling_ScoreCard.csv', 'a', newline='') as file2:\n",
    "            csvWriter = csv.writer(file2)\n",
    "            \n",
    "            if not bowling_file_exists:\n",
    "                header2 = ['Match_ID', 'Team', 'Opponent', 'Bowler_Name', 'Overs', 'Maidens', \n",
    "                           'Runs', 'Wickets', 'Economy', '0s', '4s', '6s', 'Wides', 'No Balls']\n",
    "                csvWriter.writerow(header2)\n",
    "            \n",
    "            csvWriter.writerows(bowling_card)\n",
    "\n",
    "    driver.quit()\n"
   ]
  },
  {
   "cell_type": "code",
   "execution_count": 316,
   "id": "e1fcfe19",
   "metadata": {},
   "outputs": [],
   "source": [
    "# get_ScoreCard('match_summery_data.csv')"
   ]
  },
  {
   "cell_type": "code",
   "execution_count": 321,
   "id": "159e29ba",
   "metadata": {},
   "outputs": [
    {
     "data": {
      "text/html": [
       "<div>\n",
       "<style scoped>\n",
       "    .dataframe tbody tr th:only-of-type {\n",
       "        vertical-align: middle;\n",
       "    }\n",
       "\n",
       "    .dataframe tbody tr th {\n",
       "        vertical-align: top;\n",
       "    }\n",
       "\n",
       "    .dataframe thead th {\n",
       "        text-align: right;\n",
       "    }\n",
       "</style>\n",
       "<table border=\"1\" class=\"dataframe\">\n",
       "  <thead>\n",
       "    <tr style=\"text-align: right;\">\n",
       "      <th></th>\n",
       "      <th>Match_ID</th>\n",
       "      <th>Team</th>\n",
       "      <th>Opponent</th>\n",
       "      <th>Batting Position</th>\n",
       "      <th>Batsman_Name</th>\n",
       "      <th>Dismissal</th>\n",
       "      <th>Runs</th>\n",
       "      <th>Balls</th>\n",
       "      <th>Minutes Spent</th>\n",
       "      <th>4s</th>\n",
       "      <th>6s</th>\n",
       "      <th>Strike Rate</th>\n",
       "    </tr>\n",
       "  </thead>\n",
       "  <tbody>\n",
       "    <tr>\n",
       "      <th>0</th>\n",
       "      <td>T20I # 1879</td>\n",
       "      <td>Pakistan</td>\n",
       "      <td>England</td>\n",
       "      <td>1</td>\n",
       "      <td>Mohammad Rizwan †</td>\n",
       "      <td>b Curran</td>\n",
       "      <td>15</td>\n",
       "      <td>14</td>\n",
       "      <td>24</td>\n",
       "      <td>0</td>\n",
       "      <td>1</td>\n",
       "      <td>107.14</td>\n",
       "    </tr>\n",
       "    <tr>\n",
       "      <th>1</th>\n",
       "      <td>T20I # 1879</td>\n",
       "      <td>Pakistan</td>\n",
       "      <td>England</td>\n",
       "      <td>2</td>\n",
       "      <td>Babar Azam (c)</td>\n",
       "      <td>c &amp; b Rashid</td>\n",
       "      <td>32</td>\n",
       "      <td>28</td>\n",
       "      <td>58</td>\n",
       "      <td>2</td>\n",
       "      <td>0</td>\n",
       "      <td>114.28</td>\n",
       "    </tr>\n",
       "    <tr>\n",
       "      <th>2</th>\n",
       "      <td>T20I # 1879</td>\n",
       "      <td>Pakistan</td>\n",
       "      <td>England</td>\n",
       "      <td>3</td>\n",
       "      <td>Mohammad Haris</td>\n",
       "      <td>c Stokes b Rashid</td>\n",
       "      <td>8</td>\n",
       "      <td>12</td>\n",
       "      <td>15</td>\n",
       "      <td>1</td>\n",
       "      <td>0</td>\n",
       "      <td>66.66</td>\n",
       "    </tr>\n",
       "    <tr>\n",
       "      <th>3</th>\n",
       "      <td>T20I # 1879</td>\n",
       "      <td>Pakistan</td>\n",
       "      <td>England</td>\n",
       "      <td>4</td>\n",
       "      <td>Shan Masood</td>\n",
       "      <td>c Livingstone b Curran</td>\n",
       "      <td>38</td>\n",
       "      <td>28</td>\n",
       "      <td>46</td>\n",
       "      <td>2</td>\n",
       "      <td>1</td>\n",
       "      <td>135.71</td>\n",
       "    </tr>\n",
       "    <tr>\n",
       "      <th>4</th>\n",
       "      <td>T20I # 1879</td>\n",
       "      <td>Pakistan</td>\n",
       "      <td>England</td>\n",
       "      <td>5</td>\n",
       "      <td>Iftikhar Ahmed</td>\n",
       "      <td>c †Buttler b Stokes</td>\n",
       "      <td>0</td>\n",
       "      <td>6</td>\n",
       "      <td>8</td>\n",
       "      <td>0</td>\n",
       "      <td>0</td>\n",
       "      <td>0.00</td>\n",
       "    </tr>\n",
       "  </tbody>\n",
       "</table>\n",
       "</div>"
      ],
      "text/plain": [
       "      Match_ID      Team Opponent  Batting Position       Batsman_Name  \\\n",
       "0  T20I # 1879  Pakistan  England                 1  Mohammad Rizwan †   \n",
       "1  T20I # 1879  Pakistan  England                 2     Babar Azam (c)   \n",
       "2  T20I # 1879  Pakistan  England                 3     Mohammad Haris   \n",
       "3  T20I # 1879  Pakistan  England                 4        Shan Masood   \n",
       "4  T20I # 1879  Pakistan  England                 5     Iftikhar Ahmed   \n",
       "\n",
       "                Dismissal  Runs  Balls Minutes Spent  4s  6s Strike Rate  \n",
       "0                b Curran    15     14            24   0   1      107.14  \n",
       "1            c & b Rashid    32     28            58   2   0      114.28  \n",
       "2       c Stokes b Rashid     8     12            15   1   0       66.66  \n",
       "3  c Livingstone b Curran    38     28            46   2   1      135.71  \n",
       "4     c †Buttler b Stokes     0      6             8   0   0        0.00  "
      ]
     },
     "execution_count": 321,
     "metadata": {},
     "output_type": "execute_result"
    }
   ],
   "source": [
    "df1 = pd.read_csv('Batting_ScoreCard.csv')\n",
    "df1.head()"
   ]
  },
  {
   "cell_type": "code",
   "execution_count": 322,
   "id": "2ccb5234",
   "metadata": {},
   "outputs": [
    {
     "data": {
      "text/html": [
       "<div>\n",
       "<style scoped>\n",
       "    .dataframe tbody tr th:only-of-type {\n",
       "        vertical-align: middle;\n",
       "    }\n",
       "\n",
       "    .dataframe tbody tr th {\n",
       "        vertical-align: top;\n",
       "    }\n",
       "\n",
       "    .dataframe thead th {\n",
       "        text-align: right;\n",
       "    }\n",
       "</style>\n",
       "<table border=\"1\" class=\"dataframe\">\n",
       "  <thead>\n",
       "    <tr style=\"text-align: right;\">\n",
       "      <th></th>\n",
       "      <th>Match_ID</th>\n",
       "      <th>Team</th>\n",
       "      <th>Opponent</th>\n",
       "      <th>Bowler_Name</th>\n",
       "      <th>Overs</th>\n",
       "      <th>Maidens</th>\n",
       "      <th>Runs</th>\n",
       "      <th>Wickets</th>\n",
       "      <th>Economy</th>\n",
       "      <th>0s</th>\n",
       "      <th>4s</th>\n",
       "      <th>6s</th>\n",
       "      <th>Wides</th>\n",
       "      <th>No Balls</th>\n",
       "    </tr>\n",
       "  </thead>\n",
       "  <tbody>\n",
       "    <tr>\n",
       "      <th>0</th>\n",
       "      <td>T20I # 1879</td>\n",
       "      <td>England</td>\n",
       "      <td>Pakistan</td>\n",
       "      <td>Ben Stokes</td>\n",
       "      <td>4.0</td>\n",
       "      <td>0</td>\n",
       "      <td>32</td>\n",
       "      <td>1</td>\n",
       "      <td>8.00</td>\n",
       "      <td>6</td>\n",
       "      <td>1</td>\n",
       "      <td>0</td>\n",
       "      <td>2</td>\n",
       "      <td>1</td>\n",
       "    </tr>\n",
       "    <tr>\n",
       "      <th>1</th>\n",
       "      <td>T20I # 1879</td>\n",
       "      <td>England</td>\n",
       "      <td>Pakistan</td>\n",
       "      <td>Chris Woakes</td>\n",
       "      <td>3.0</td>\n",
       "      <td>0</td>\n",
       "      <td>26</td>\n",
       "      <td>0</td>\n",
       "      <td>8.66</td>\n",
       "      <td>7</td>\n",
       "      <td>2</td>\n",
       "      <td>1</td>\n",
       "      <td>2</td>\n",
       "      <td>0</td>\n",
       "    </tr>\n",
       "    <tr>\n",
       "      <th>2</th>\n",
       "      <td>T20I # 1879</td>\n",
       "      <td>England</td>\n",
       "      <td>Pakistan</td>\n",
       "      <td>Sam Curran</td>\n",
       "      <td>4.0</td>\n",
       "      <td>0</td>\n",
       "      <td>12</td>\n",
       "      <td>3</td>\n",
       "      <td>3.00</td>\n",
       "      <td>15</td>\n",
       "      <td>0</td>\n",
       "      <td>0</td>\n",
       "      <td>0</td>\n",
       "      <td>0</td>\n",
       "    </tr>\n",
       "    <tr>\n",
       "      <th>3</th>\n",
       "      <td>T20I # 1879</td>\n",
       "      <td>England</td>\n",
       "      <td>Pakistan</td>\n",
       "      <td>Adil Rashid</td>\n",
       "      <td>4.0</td>\n",
       "      <td>1</td>\n",
       "      <td>22</td>\n",
       "      <td>2</td>\n",
       "      <td>5.50</td>\n",
       "      <td>10</td>\n",
       "      <td>1</td>\n",
       "      <td>0</td>\n",
       "      <td>1</td>\n",
       "      <td>0</td>\n",
       "    </tr>\n",
       "    <tr>\n",
       "      <th>4</th>\n",
       "      <td>T20I # 1879</td>\n",
       "      <td>England</td>\n",
       "      <td>Pakistan</td>\n",
       "      <td>Chris Jordan</td>\n",
       "      <td>4.0</td>\n",
       "      <td>0</td>\n",
       "      <td>27</td>\n",
       "      <td>2</td>\n",
       "      <td>6.75</td>\n",
       "      <td>9</td>\n",
       "      <td>3</td>\n",
       "      <td>0</td>\n",
       "      <td>0</td>\n",
       "      <td>0</td>\n",
       "    </tr>\n",
       "  </tbody>\n",
       "</table>\n",
       "</div>"
      ],
      "text/plain": [
       "      Match_ID     Team  Opponent   Bowler_Name  Overs  Maidens  Runs  \\\n",
       "0  T20I # 1879  England  Pakistan    Ben Stokes    4.0        0    32   \n",
       "1  T20I # 1879  England  Pakistan  Chris Woakes    3.0        0    26   \n",
       "2  T20I # 1879  England  Pakistan    Sam Curran    4.0        0    12   \n",
       "3  T20I # 1879  England  Pakistan   Adil Rashid    4.0        1    22   \n",
       "4  T20I # 1879  England  Pakistan  Chris Jordan    4.0        0    27   \n",
       "\n",
       "   Wickets  Economy  0s  4s  6s  Wides  No Balls  \n",
       "0        1     8.00   6   1   0      2         1  \n",
       "1        0     8.66   7   2   1      2         0  \n",
       "2        3     3.00  15   0   0      0         0  \n",
       "3        2     5.50  10   1   0      1         0  \n",
       "4        2     6.75   9   3   0      0         0  "
      ]
     },
     "execution_count": 322,
     "metadata": {},
     "output_type": "execute_result"
    }
   ],
   "source": [
    "df2 = pd.read_csv(\"Bowling_ScoreCard.csv\")\n",
    "df2.head()"
   ]
  },
  {
   "cell_type": "code",
   "execution_count": null,
   "id": "aaf3ca5a",
   "metadata": {},
   "outputs": [],
   "source": []
  }
 ],
 "metadata": {
  "kernelspec": {
   "display_name": "Python 3 (ipykernel)",
   "language": "python",
   "name": "python3"
  },
  "language_info": {
   "codemirror_mode": {
    "name": "ipython",
    "version": 3
   },
   "file_extension": ".py",
   "mimetype": "text/x-python",
   "name": "python",
   "nbconvert_exporter": "python",
   "pygments_lexer": "ipython3",
   "version": "3.11.5"
  }
 },
 "nbformat": 4,
 "nbformat_minor": 5
}
