{
 "cells": [
  {
   "cell_type": "code",
   "execution_count": 98,
   "id": "f3f565e5",
   "metadata": {},
   "outputs": [],
   "source": [
    "import selenium\n",
    "import pandas as pd\n",
    "import os\n",
    "import time\n",
    "import csv\n",
    "from selenium import webdriver\n",
    "from bs4 import BeautifulSoup\n",
    "from selenium.webdriver.support.ui import WebDriverWait\n",
    "from selenium.webdriver.support import expected_conditions as EC\n",
    "from selenium.webdriver.common.by import By\n",
    "from selenium.webdriver.chrome.service import Service\n",
    "from selenium.webdriver.chrome.options import Options"
   ]
  },
  {
   "cell_type": "markdown",
   "id": "f4487841",
   "metadata": {},
   "source": [
    "### Function to Get the Structural Formula and Save the .sdf File of A Compound"
   ]
  },
  {
   "cell_type": "code",
   "execution_count": 99,
   "id": "d193b842",
   "metadata": {},
   "outputs": [],
   "source": [
    "def get_single_molecule_data(link):\n",
    "    if link == '':\n",
    "        return ''\n",
    "    \n",
    "    # Directory path to save the sdf Files\n",
    "    download_dir = os.path.join(os.getcwd(), \"3d_sdf_files\")\n",
    "    os.makedirs(download_dir, exist_ok=True)\n",
    "\n",
    "    # Options are required to automate the Download process\n",
    "    chrome_options = Options()\n",
    "    chrome_options.add_experimental_option(\"prefs\", {\n",
    "        \"download.default_directory\": download_dir,\n",
    "        \"download.prompt_for_download\": False,\n",
    "        \"download.directory_upgrade\": True,\n",
    "        \"safebrowsing.enabled\": True\n",
    "    })\n",
    "    # Open the web Browser and get the HTML info\n",
    "    driver = webdriver.Chrome(options=chrome_options)\n",
    "    driver.get(link)\n",
    "    time.sleep(2)\n",
    "    \n",
    "    # get smiles text (structural formula) of a compound\n",
    "    soup = BeautifulSoup(driver.page_source, 'html.parser')\n",
    "    smiles_tag = soup.find(\"strong\", text=\"SMILES:\")\n",
    "    smiles_text = smiles_tag.find_next_sibling().find_next_sibling().text\n",
    "    if smiles_text is None:\n",
    "        print(f'SMILES Text Not available for {link}')\n",
    "    \n",
    "    # To downlaod .sdf file of the Compound\n",
    "    try:\n",
    "        sdf_link = driver.find_element(By.XPATH, '//a[contains(@href, \"3D/SDF\") and contains(@href, \".sdf\")]')\n",
    "        sdf_url = sdf_link.get_attribute(\"href\")\n",
    "        \n",
    "        # automating the downlaod of the .sdf file\n",
    "        driver.execute_script(\"window.open(arguments[0]);\", sdf_url)\n",
    "        driver.switch_to.window(driver.window_handles[-1])\n",
    "        time.sleep(5) \n",
    "        driver.close()\n",
    "        driver.switch_to.window(driver.window_handles[0])\n",
    "    \n",
    "    except:\n",
    "        pass\n",
    "    \n",
    "    driver.quit()\n",
    "    return smiles_text\n"
   ]
  },
  {
   "cell_type": "markdown",
   "id": "24a6a618",
   "metadata": {},
   "source": [
    "### Function to Get the Data of all Compounds for a Particular Species"
   ]
  },
  {
   "cell_type": "code",
   "execution_count": 100,
   "id": "0c8c3965",
   "metadata": {},
   "outputs": [],
   "source": [
    "def get_all_data_of_a_species(url):\n",
    "    # Get HTMl of the Table Page\n",
    "    driver = webdriver.Chrome()\n",
    "    driver.get(url)\n",
    "    time.sleep(1)\n",
    "\n",
    "    wait = WebDriverWait(driver, 10)\n",
    "    all_data = []\n",
    "    \n",
    "    # keep going until next button is not disabled\n",
    "    while True:\n",
    "        wait.until(EC.presence_of_element_located((By.CSS_SELECTOR, \"table tbody\")))\n",
    "        rows = driver.find_elements(By.CSS_SELECTOR, \"table tbody tr\")\n",
    "        # get the data of all cols within all rows\n",
    "        for row in rows:\n",
    "            cells = row.find_elements(By.TAG_NAME, \"td\")\n",
    "            row_data = [cell.text.strip() for cell in cells]\n",
    "            # 4th col has the compound link\n",
    "            if len(cells) >= 4:\n",
    "                try:\n",
    "                    link_tag = cells[3].find_element(By.TAG_NAME, \"a\")\n",
    "                    url = link_tag.get_attribute(\"href\")\n",
    "                except:\n",
    "                    url = \"\"  # No link found\n",
    "            else:\n",
    "                url = \"\"\n",
    "            # get the structural formula and save the sdf file of the compound\n",
    "            smiles_text = get_single_molecule_data(url)\n",
    "            # store the dataa\n",
    "            row_data.append(smiles_text)\n",
    "            row_data.append(url)\n",
    "            all_data.append(row_data)\n",
    "        \n",
    "        # if the table is not finished, go to the next page\n",
    "        next_btn = driver.find_element(By.ID, \"table_id_next\")\n",
    "        if \"disabled\" in next_btn.get_attribute(\"class\"):\n",
    "            break\n",
    "        next_btn.click()\n",
    "        time.sleep(2)\n",
    "        \n",
    "    driver.quit()\n",
    "    return all_data"
   ]
  },
  {
   "cell_type": "markdown",
   "id": "a2c22b52",
   "metadata": {},
   "source": [
    "### Save the data of all Compounds to CSV File"
   ]
  },
  {
   "cell_type": "code",
   "execution_count": 106,
   "id": "0e68109e",
   "metadata": {},
   "outputs": [],
   "source": [
    "def save_data_of_all_compounds(data, file_path):\n",
    "    try:\n",
    "        with open(file_path, 'w', encoding='utf-8') as file:\n",
    "            csvWriter = csv.writer(file)\n",
    "            header = ['Indian Medicinal Plant', 'Plant Part', 'IMPPAT Phytochemical Identifier', 'Phytochemical Name', 'References', 'Structural Formula', 'Compound URL']\n",
    "            csvWriter.writerow(header)\n",
    "            csvWriter.writerows(data)\n",
    "    except Exception as e:\n",
    "        print(f'Following Error Occured During Writing the Data to File: {e}')"
   ]
  },
  {
   "cell_type": "markdown",
   "id": "a9be2739",
   "metadata": {},
   "source": [
    "### Functions to Set the Rename .sdf File with their Names"
   ]
  },
  {
   "cell_type": "code",
   "execution_count": 102,
   "id": "2498dc8c",
   "metadata": {},
   "outputs": [],
   "source": [
    "def get_rename_dict(data):\n",
    "    rename_dict = {}\n",
    "    for molecule in data:\n",
    "        identifier = molecule[2].strip()\n",
    "        name = molecule[3].strip()\n",
    "        rename_dict[identifier] = name\n",
    "    return rename_dict\n",
    "\n",
    "def rename_sdf_files(folder_path, rename_dict):\n",
    "    for old_name, new_name in rename_dict.items():\n",
    "        old_name = old_name+'_3D.sdf'\n",
    "        new_name = new_name +'.sdf'\n",
    "        \n",
    "        old_path = os.path.join(folder_path, old_name)\n",
    "        new_path = os.path.join(folder_path, new_name)\n",
    "        \n",
    "        if os.path.exists(old_path):\n",
    "            os.rename(old_path, new_path)\n",
    "#             print(f'{old_name} renamed to {new_name}')\n",
    "        else:\n",
    "            print(f'{old_name} Does not exists.')\n",
    "    return "
   ]
  },
  {
   "cell_type": "code",
   "execution_count": 104,
   "id": "119dbc8a",
   "metadata": {},
   "outputs": [
    {
     "name": "stderr",
     "output_type": "stream",
     "text": [
      "/tmp/ipykernel_3849/3350782568.py:24: DeprecationWarning: The 'text' argument to find()-type methods is deprecated. Use 'string' instead.\n",
      "  smiles_tag = soup.find(\"strong\", text=\"SMILES:\")\n"
     ]
    }
   ],
   "source": [
    "link = 'https://cb.imsc.res.in/imppat/phytochemical/Cheilocostus%20speciosus'\n",
    "data = get_all_data_of_a_species(link)"
   ]
  },
  {
   "cell_type": "code",
   "execution_count": 107,
   "id": "2a00ab8e",
   "metadata": {},
   "outputs": [],
   "source": [
    "save_data_of_all_compounds(data, 'phytochemicals_dataset.csv')"
   ]
  },
  {
   "cell_type": "code",
   "execution_count": 105,
   "id": "223a279d",
   "metadata": {},
   "outputs": [],
   "source": [
    "rdict = get_rename_dict(data)\n",
    "folder_path = '/home/vikas/Internship/3d_sdf_files/'\n",
    "rename_sdf_files(folder_path, rdict)"
   ]
  },
  {
   "cell_type": "code",
   "execution_count": null,
   "id": "cc6f2ce4",
   "metadata": {},
   "outputs": [],
   "source": []
  }
 ],
 "metadata": {
  "kernelspec": {
   "display_name": "Python 3 (ipykernel)",
   "language": "python",
   "name": "python3"
  },
  "language_info": {
   "codemirror_mode": {
    "name": "ipython",
    "version": 3
   },
   "file_extension": ".py",
   "mimetype": "text/x-python",
   "name": "python",
   "nbconvert_exporter": "python",
   "pygments_lexer": "ipython3",
   "version": "3.11.5"
  }
 },
 "nbformat": 4,
 "nbformat_minor": 5
}
